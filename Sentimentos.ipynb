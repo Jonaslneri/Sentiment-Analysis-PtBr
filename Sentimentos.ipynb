{
    "cells": [
        {
            "cell_type": "code",
            "execution_count": 58,
            "source": [
                "import spacy\r\n",
                "from spacy import displacy\r\n",
                "import pandas as pd\r\n",
                "from sklearn.model_selection import train_test_split\r\n",
                "from sklearn.pipeline import Pipeline\r\n",
                "from sklearn.feature_extraction.text import TfidfVectorizer\r\n",
                "from sklearn.metrics import confusion_matrix, classification_report, accuracy_score\r\n",
                "from sklearn.svm import LinearSVC\r\n",
                "import string\r\n",
                "import pickle"
            ],
            "outputs": [],
            "metadata": {}
        },
        {
            "cell_type": "code",
            "execution_count": 2,
            "source": [
                "nlp = spacy.load(\"pt_core_news_lg\")"
            ],
            "outputs": [],
            "metadata": {}
        },
        {
            "cell_type": "code",
            "execution_count": 3,
            "source": [
                "from spacy.lang.en.stop_words import STOP_WORDS\r\n",
                "stopwords = list(STOP_WORDS)\r\n",
                "print(len(stopwords))"
            ],
            "outputs": [
                {
                    "output_type": "stream",
                    "name": "stdout",
                    "text": [
                        "326\n"
                    ]
                }
            ],
            "metadata": {}
        },
        {
            "cell_type": "code",
            "execution_count": 4,
            "source": [
                "punct = string.punctuation\r\n",
                "print(punct)"
            ],
            "outputs": [
                {
                    "output_type": "stream",
                    "name": "stdout",
                    "text": [
                        "!\"#$%&'()*+,-./:;<=>?@[\\]^_`{|}~\n"
                    ]
                }
            ],
            "metadata": {}
        },
        {
            "cell_type": "code",
            "execution_count": 5,
            "source": [
                "def dataCleaning(sentence):\r\n",
                "  doc = nlp(sentence)\r\n",
                "  tokens = []\r\n",
                "  for token in doc:\r\n",
                "    if token.lemma_ != '-PRON-':\r\n",
                "      temp = token.lemma_.lower().strip()\r\n",
                "    else:\r\n",
                "      temp = token.lower_\r\n",
                "    tokens.append(temp)\r\n",
                "  clean_tokens = []\r\n",
                "  for token in tokens:\r\n",
                "    if token not in punct and token not in stopwords:\r\n",
                "      clean_tokens.append(token)\r\n",
                "  return clean_tokens"
            ],
            "outputs": [],
            "metadata": {}
        },
        {
            "cell_type": "code",
            "execution_count": 6,
            "source": [
                "comments = pd.read_excel(\"base.xlsx\")"
            ],
            "outputs": [],
            "metadata": {}
        },
        {
            "cell_type": "code",
            "execution_count": 7,
            "source": [
                "comments.head()"
            ],
            "outputs": [
                {
                    "output_type": "execute_result",
                    "data": {
                        "text/plain": [
                            "                                           Descrição  Label\n",
                            "0  não consegui acessar o AVA, preciso avançar no...      0\n",
                            "1                                        Rematrícula      0\n",
                            "2             Não estou conseguindo entrar no curso.      0\n",
                            "3                        Não consegui pagar o boleto      0\n",
                            "4                               telefones de contato      0"
                        ],
                        "text/html": [
                            "<div>\n",
                            "<style scoped>\n",
                            "    .dataframe tbody tr th:only-of-type {\n",
                            "        vertical-align: middle;\n",
                            "    }\n",
                            "\n",
                            "    .dataframe tbody tr th {\n",
                            "        vertical-align: top;\n",
                            "    }\n",
                            "\n",
                            "    .dataframe thead th {\n",
                            "        text-align: right;\n",
                            "    }\n",
                            "</style>\n",
                            "<table border=\"1\" class=\"dataframe\">\n",
                            "  <thead>\n",
                            "    <tr style=\"text-align: right;\">\n",
                            "      <th></th>\n",
                            "      <th>Descrição</th>\n",
                            "      <th>Label</th>\n",
                            "    </tr>\n",
                            "  </thead>\n",
                            "  <tbody>\n",
                            "    <tr>\n",
                            "      <th>0</th>\n",
                            "      <td>não consegui acessar o AVA, preciso avançar no...</td>\n",
                            "      <td>0</td>\n",
                            "    </tr>\n",
                            "    <tr>\n",
                            "      <th>1</th>\n",
                            "      <td>Rematrícula</td>\n",
                            "      <td>0</td>\n",
                            "    </tr>\n",
                            "    <tr>\n",
                            "      <th>2</th>\n",
                            "      <td>Não estou conseguindo entrar no curso.</td>\n",
                            "      <td>0</td>\n",
                            "    </tr>\n",
                            "    <tr>\n",
                            "      <th>3</th>\n",
                            "      <td>Não consegui pagar o boleto</td>\n",
                            "      <td>0</td>\n",
                            "    </tr>\n",
                            "    <tr>\n",
                            "      <th>4</th>\n",
                            "      <td>telefones de contato</td>\n",
                            "      <td>0</td>\n",
                            "    </tr>\n",
                            "  </tbody>\n",
                            "</table>\n",
                            "</div>"
                        ]
                    },
                    "metadata": {},
                    "execution_count": 7
                }
            ],
            "metadata": {}
        },
        {
            "cell_type": "code",
            "execution_count": 8,
            "source": [
                "comments_X = comments[\"Descrição\"]\r\n",
                "comments_y = comments[\"Label\"]"
            ],
            "outputs": [],
            "metadata": {}
        },
        {
            "cell_type": "code",
            "execution_count": 9,
            "source": [
                "X_train, X_test, y_train, y_test = train_test_split(comments_X,comments_y, test_size=0.2)"
            ],
            "outputs": [],
            "metadata": {}
        },
        {
            "cell_type": "code",
            "execution_count": 10,
            "source": [
                "print(X_train.shape,y_train.shape)\r\n",
                "print(X_test.shape,y_test.shape)"
            ],
            "outputs": [
                {
                    "output_type": "stream",
                    "name": "stdout",
                    "text": [
                        "(124373,) (124373,)\n",
                        "(31094,) (31094,)\n"
                    ]
                }
            ],
            "metadata": {}
        },
        {
            "cell_type": "code",
            "execution_count": 11,
            "source": [
                "X_train = X_train.map(str)\r\n",
                "X_test = X_test.map(str)"
            ],
            "outputs": [],
            "metadata": {}
        },
        {
            "cell_type": "code",
            "execution_count": 12,
            "source": [
                "tfidf = TfidfVectorizer(tokenizer = dataCleaning)\r\n",
                "svm = LinearSVC()\r\n",
                "steps = [('tfidf',tfidf),('svm',svm)]\r\n",
                "pipe = Pipeline(steps)"
            ],
            "outputs": [],
            "metadata": {}
        },
        {
            "cell_type": "code",
            "execution_count": 13,
            "source": [
                "pipe.fit(X_train,y_train)"
            ],
            "outputs": [
                {
                    "output_type": "execute_result",
                    "data": {
                        "text/plain": [
                            "Pipeline(steps=[('tfidf',\n",
                            "                 TfidfVectorizer(tokenizer=<function dataCleaning at 0x000002822E5B8E50>)),\n",
                            "                ('svm', LinearSVC())])"
                        ]
                    },
                    "metadata": {},
                    "execution_count": 13
                }
            ],
            "metadata": {}
        },
        {
            "cell_type": "code",
            "execution_count": 14,
            "source": [
                "y_pred = pipe.predict(X_test)"
            ],
            "outputs": [],
            "metadata": {}
        },
        {
            "cell_type": "code",
            "execution_count": 15,
            "source": [
                "print(classification_report(y_test,y_pred))\r\n",
                "print(\"\\n\\n\")# 1 = Comentário positivo\r\n",
                "print(confusion_matrix(y_test,y_pred))"
            ],
            "outputs": [
                {
                    "output_type": "stream",
                    "name": "stdout",
                    "text": [
                        "              precision    recall  f1-score   support\n",
                        "\n",
                        "           0       1.00      1.00      1.00     30956\n",
                        "           1       0.72      0.37      0.49       138\n",
                        "\n",
                        "    accuracy                           1.00     31094\n",
                        "   macro avg       0.86      0.68      0.74     31094\n",
                        "weighted avg       1.00      1.00      1.00     31094\n",
                        "\n",
                        "\n",
                        "\n",
                        "\n",
                        "[[30936    20]\n",
                        " [   87    51]]\n"
                    ]
                }
            ],
            "metadata": {}
        },
        {
            "cell_type": "code",
            "execution_count": 56,
            "source": [
                "# 0 = Comentário negativo\r\n",
                "# 1 = Comentário positivo\r\n",
                "pipe.predict([\"Login difícil\"])"
            ],
            "outputs": [
                {
                    "output_type": "execute_result",
                    "data": {
                        "text/plain": [
                            "array([0], dtype=int64)"
                        ]
                    },
                    "metadata": {},
                    "execution_count": 56
                }
            ],
            "metadata": {}
        },
        {
            "cell_type": "code",
            "execution_count": 59,
            "source": [
                "pickle.dump(pipe, open(\"classificador.pkl\", 'wb'))"
            ],
            "outputs": [],
            "metadata": {}
        },
        {
            "cell_type": "code",
            "execution_count": null,
            "source": [],
            "outputs": [],
            "metadata": {}
        }
    ],
    "metadata": {
        "orig_nbformat": 4,
        "language_info": {
            "name": "python",
            "version": "3.8.5",
            "mimetype": "text/x-python",
            "codemirror_mode": {
                "name": "ipython",
                "version": 3
            },
            "pygments_lexer": "ipython3",
            "nbconvert_exporter": "python",
            "file_extension": ".py"
        },
        "kernelspec": {
            "name": "python3",
            "display_name": "Python 3.8.5 64-bit ('base': conda)"
        },
        "interpreter": {
            "hash": "b3ba2566441a7c06988d0923437866b63cedc61552a5af99d1f4fb67d367b25f"
        }
    },
    "nbformat": 4,
    "nbformat_minor": 2
}